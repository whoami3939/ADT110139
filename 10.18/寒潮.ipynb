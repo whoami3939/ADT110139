{
  "nbformat": 4,
  "nbformat_minor": 0,
  "metadata": {
    "colab": {
      "provenance": []
    },
    "kernelspec": {
      "name": "python3",
      "display_name": "Python 3"
    },
    "language_info": {
      "name": "python"
    }
  },
  "cells": [
    {
      "cell_type": "code",
      "source": [
        "# Google Search\n",
        "import requests\n",
        "from bs4 import BeautifulSoup\n",
        "\n",
        "# google url\n",
        "google_url = 'https://www.google.com.tw/search'\n",
        "\n",
        "# parameter\n",
        "my_params = {'q': '寒流'}\n",
        "\n",
        "r = requests.get(google_url, params = my_params)\n",
        "soup = BeautifulSoup(r.text,'html.parser')\n",
        "items = soup.select('div.kCrYT > a[href^=\"/url\"]')\n",
        "\n",
        "for i in items:\n",
        "    print(\"標題 : \" + i.text)\n",
        "    print(\"網址 : \" + i.get('href').replace(\"/url?q=\",\"\"))\n",
        "    print()"
      ],
      "metadata": {
        "colab": {
          "base_uri": "https://localhost:8080/"
        },
        "id": "LpnR4uX6pvFd",
        "outputId": "aa488f07-d48c-4ff9-eecb-7daa5f2edcf7"
      },
      "execution_count": 3,
      "outputs": [
        {
          "output_type": "stream",
          "name": "stdout",
          "text": [
            "標題 : 寒流- 維基百科，自由的百科全書zh.wikipedia.org › wiki › 寒潮\n",
            "網址 : https://zh.wikipedia.org/wiki/%25E5%25AF%2592%25E6%25BD%25AE&sa=U&ved=2ahUKEwiHho6RwIGCAxWxl2oFHQ8mA9wQFnoECAkQAg&usg=AOvVaw3xgsjO7yRkujpmEgfnNTlo\n",
            "\n",
            "標題 : 寒流_百度百科baike.baidu.com › item › 寒流\n",
            "網址 : https://baike.baidu.com/item/%25E5%25AF%2592%25E6%25B5%2581/2857686&sa=U&ved=2ahUKEwiHho6RwIGCAxWxl2oFHQ8mA9wQFnoECAYQAg&usg=AOvVaw3hIImu_BJASC81BJb56Mbu\n",
            "\n",
            "標題 : 寒流- 维基百科，自由的百科全书zh.wikipedia.org › zh-hans › 寒流\n",
            "網址 : https://zh.wikipedia.org/zh-hans/%25E5%25AF%2592%25E6%25B5%2581&sa=U&ved=2ahUKEwiHho6RwIGCAxWxl2oFHQ8mA9wQFnoECAUQAg&usg=AOvVaw3wpqx0HcXqQsNqSFPe3xQ2\n",
            "\n",
            "標題 : 辭典檢視[寒流: ㄏㄢˊ ㄌㄧㄡˊ] - 教育部《重編國語辭典修訂本》2021dict.revised.moe.edu.tw › dictView\n",
            "網址 : https://dict.revised.moe.edu.tw/dictView.jsp%3FID%3D81770%26la%3D0%26powerMode%3D0&sa=U&ved=2ahUKEwiHho6RwIGCAxWxl2oFHQ8mA9wQFnoECAEQAg&usg=AOvVaw3ACSoA4uXvN5Rbw7vGTlLq\n",
            "\n",
            "標題 : 寒潮与寒流 - 中国气象局www.cma.gov.cn › kppd › kppdqxwq › kppdjckp\n",
            "網址 : https://www.cma.gov.cn/kppd/kppdqxwq/kppdjckp/201212/t20121216_197356.html&sa=U&ved=2ahUKEwiHho6RwIGCAxWxl2oFHQ8mA9wQFnoECAsQAg&usg=AOvVaw3TKPGY0ODU5Lg7Uy-bfO9y\n",
            "\n",
            "標題 : [PDF] (四)季風、寒流、低溫www.cwa.gov.tw › Data › knowledge › announce › commonsense4\n",
            "網址 : https://www.cwa.gov.tw/Data/knowledge/announce/commonsense4.pdf&sa=U&ved=2ahUKEwiHho6RwIGCAxWxl2oFHQ8mA9wQFnoECAIQAg&usg=AOvVaw1u_O239t9Pj6llLOrVFera\n",
            "\n",
            "標題 : 低溫特報| 交通部中央氣象署www.cwa.gov.tw › Warning\n",
            "網址 : https://www.cwa.gov.tw/V8/C/P/Warning/W28.html&sa=U&ved=2ahUKEwiHho6RwIGCAxWxl2oFHQ8mA9wQFnoECAoQAg&usg=AOvVaw3isokxHtLmJDnWgbsmTtQZ\n",
            "\n",
            "標題 : 亲潮及寒流----中科院南海海洋所scsio.cas.cn › kepu\n",
            "網址 : http://scsio.cas.cn/kepu/201012/t20101228_3050807.html&sa=U&ved=2ahUKEwiHho6RwIGCAxWxl2oFHQ8mA9wQFnoECAMQAg&usg=AOvVaw18B33G-f1C7vFV_w2uJe9M\n",
            "\n",
            "標題 : 冷空气、寒潮和寒流的区别 - 中国气象局www.cma.gov.cn › kppd › kppdsytj\n",
            "網址 : https://www.cma.gov.cn/kppd/kppdsytj/201310/t20131023_229484.html&sa=U&ved=2ahUKEwiHho6RwIGCAxWxl2oFHQ8mA9wQFnoECAQQAg&usg=AOvVaw2ht4p4zIMHichOUygzEd87\n",
            "\n",
            "標題 : IAP科普君：冷空气、冷锋、寒潮、寒流 - 中国科学院大气物理研究所www.iap.cas.cn › 科学传播 › 科普文章\n",
            "網址 : http://www.iap.cas.cn/gb/kxcb_165476/kpwz_165480/202004/t20200417_5551392.html&sa=U&ved=2ahUKEwiHho6RwIGCAxWxl2oFHQ8mA9wQFnoECAcQAg&usg=AOvVaw11GOkENLd9Ma7r45FPsbM0\n",
            "\n"
          ]
        }
      ]
    }
  ]
}